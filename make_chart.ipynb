{
 "cells": [
  {
   "cell_type": "code",
   "execution_count": 1,
   "metadata": {
    "scrolled": true
   },
   "outputs": [],
   "source": [
    "!pip install -U pip -q\n",
    "!pip install pandas matplotlib -q"
   ]
  },
  {
   "cell_type": "code",
   "execution_count": 2,
   "metadata": {},
   "outputs": [],
   "source": [
    "import pandas as pd\n",
    "import matplotlib as mpl\n",
    "import matplotlib.pyplot as plt\n",
    "import glob\n",
    "\n",
    "from IPython.core.display import display, Image, HTML\n",
    "%matplotlib inline\n",
    "plt.rcParams[\"figure.figsize\"] = [10, 5]"
   ]
  },
  {
   "cell_type": "code",
   "execution_count": 3,
   "metadata": {},
   "outputs": [],
   "source": [
    "csv_files = glob.glob('*.csv')"
   ]
  },
  {
   "cell_type": "code",
   "execution_count": 4,
   "metadata": {},
   "outputs": [
    {
     "data": {
      "text/html": [
       "<style>div.output_scroll { height: unset; }</style>"
      ],
      "text/plain": [
       "<IPython.core.display.HTML object>"
      ]
     },
     "metadata": {},
     "output_type": "display_data"
    },
    {
     "name": "stdout",
     "output_type": "stream",
     "text": [
      "[2021-08-17_14-51-28_568385.csv]\n"
     ]
    },
    {
     "data": {
      "text/html": [
       "<div>\n",
       "<style scoped>\n",
       "    .dataframe tbody tr th:only-of-type {\n",
       "        vertical-align: middle;\n",
       "    }\n",
       "\n",
       "    .dataframe tbody tr th {\n",
       "        vertical-align: top;\n",
       "    }\n",
       "\n",
       "    .dataframe thead th {\n",
       "        text-align: right;\n",
       "    }\n",
       "</style>\n",
       "<table border=\"1\" class=\"dataframe\">\n",
       "  <thead>\n",
       "    <tr style=\"text-align: right;\">\n",
       "      <th></th>\n",
       "      <th>value</th>\n",
       "      <th>time_index</th>\n",
       "    </tr>\n",
       "    <tr>\n",
       "      <th>timestamp</th>\n",
       "      <th></th>\n",
       "      <th></th>\n",
       "    </tr>\n",
       "  </thead>\n",
       "  <tbody>\n",
       "    <tr>\n",
       "      <th>2021-08-17 14:51:28</th>\n",
       "      <td>0.625000</td>\n",
       "      <td>0.0</td>\n",
       "    </tr>\n",
       "    <tr>\n",
       "      <th>2021-08-17 14:51:29</th>\n",
       "      <td>2.136364</td>\n",
       "      <td>0.0</td>\n",
       "    </tr>\n",
       "    <tr>\n",
       "      <th>2021-08-17 14:51:30</th>\n",
       "      <td>0.681818</td>\n",
       "      <td>0.0</td>\n",
       "    </tr>\n",
       "    <tr>\n",
       "      <th>2021-08-17 14:51:31</th>\n",
       "      <td>0.173913</td>\n",
       "      <td>0.0</td>\n",
       "    </tr>\n",
       "    <tr>\n",
       "      <th>2021-08-17 14:51:32</th>\n",
       "      <td>0.130435</td>\n",
       "      <td>0.0</td>\n",
       "    </tr>\n",
       "    <tr>\n",
       "      <th>...</th>\n",
       "      <td>...</td>\n",
       "      <td>...</td>\n",
       "    </tr>\n",
       "    <tr>\n",
       "      <th>2021-08-17 18:23:02</th>\n",
       "      <td>1.086957</td>\n",
       "      <td>1269.0</td>\n",
       "    </tr>\n",
       "    <tr>\n",
       "      <th>2021-08-17 18:23:03</th>\n",
       "      <td>0.333333</td>\n",
       "      <td>1269.0</td>\n",
       "    </tr>\n",
       "    <tr>\n",
       "      <th>2021-08-17 18:23:04</th>\n",
       "      <td>0.416667</td>\n",
       "      <td>1269.0</td>\n",
       "    </tr>\n",
       "    <tr>\n",
       "      <th>2021-08-17 18:23:05</th>\n",
       "      <td>0.666667</td>\n",
       "      <td>1269.0</td>\n",
       "    </tr>\n",
       "    <tr>\n",
       "      <th>2021-08-17 18:23:06</th>\n",
       "      <td>3.545455</td>\n",
       "      <td>1269.0</td>\n",
       "    </tr>\n",
       "  </tbody>\n",
       "</table>\n",
       "<p>12699 rows × 2 columns</p>\n",
       "</div>"
      ],
      "text/plain": [
       "                        value  time_index\n",
       "timestamp                                \n",
       "2021-08-17 14:51:28  0.625000         0.0\n",
       "2021-08-17 14:51:29  2.136364         0.0\n",
       "2021-08-17 14:51:30  0.681818         0.0\n",
       "2021-08-17 14:51:31  0.173913         0.0\n",
       "2021-08-17 14:51:32  0.130435         0.0\n",
       "...                       ...         ...\n",
       "2021-08-17 18:23:02  1.086957      1269.0\n",
       "2021-08-17 18:23:03  0.333333      1269.0\n",
       "2021-08-17 18:23:04  0.416667      1269.0\n",
       "2021-08-17 18:23:05  0.666667      1269.0\n",
       "2021-08-17 18:23:06  3.545455      1269.0\n",
       "\n",
       "[12699 rows x 2 columns]"
      ]
     },
     "metadata": {},
     "output_type": "display_data"
    },
    {
     "name": "stdout",
     "output_type": "stream",
     "text": [
      "[2021-08-17_16-50-21_433436.csv]\n"
     ]
    },
    {
     "data": {
      "text/html": [
       "<div>\n",
       "<style scoped>\n",
       "    .dataframe tbody tr th:only-of-type {\n",
       "        vertical-align: middle;\n",
       "    }\n",
       "\n",
       "    .dataframe tbody tr th {\n",
       "        vertical-align: top;\n",
       "    }\n",
       "\n",
       "    .dataframe thead th {\n",
       "        text-align: right;\n",
       "    }\n",
       "</style>\n",
       "<table border=\"1\" class=\"dataframe\">\n",
       "  <thead>\n",
       "    <tr style=\"text-align: right;\">\n",
       "      <th></th>\n",
       "      <th>value</th>\n",
       "      <th>time_index</th>\n",
       "    </tr>\n",
       "    <tr>\n",
       "      <th>timestamp</th>\n",
       "      <th></th>\n",
       "      <th></th>\n",
       "    </tr>\n",
       "  </thead>\n",
       "  <tbody>\n",
       "    <tr>\n",
       "      <th>2021-08-17 16:50:21</th>\n",
       "      <td>2.727273</td>\n",
       "      <td>0.0</td>\n",
       "    </tr>\n",
       "    <tr>\n",
       "      <th>2021-08-17 16:50:22</th>\n",
       "      <td>5.083333</td>\n",
       "      <td>0.0</td>\n",
       "    </tr>\n",
       "    <tr>\n",
       "      <th>2021-08-17 16:50:23</th>\n",
       "      <td>165.000000</td>\n",
       "      <td>0.0</td>\n",
       "    </tr>\n",
       "    <tr>\n",
       "      <th>2021-08-17 16:50:24</th>\n",
       "      <td>203.565217</td>\n",
       "      <td>0.0</td>\n",
       "    </tr>\n",
       "    <tr>\n",
       "      <th>2021-08-17 16:50:25</th>\n",
       "      <td>104.434783</td>\n",
       "      <td>0.0</td>\n",
       "    </tr>\n",
       "    <tr>\n",
       "      <th>...</th>\n",
       "      <td>...</td>\n",
       "      <td>...</td>\n",
       "    </tr>\n",
       "    <tr>\n",
       "      <th>2021-08-17 18:28:35</th>\n",
       "      <td>8.678571</td>\n",
       "      <td>589.0</td>\n",
       "    </tr>\n",
       "    <tr>\n",
       "      <th>2021-08-17 18:28:36</th>\n",
       "      <td>6.607143</td>\n",
       "      <td>589.0</td>\n",
       "    </tr>\n",
       "    <tr>\n",
       "      <th>2021-08-17 18:28:37</th>\n",
       "      <td>7.250000</td>\n",
       "      <td>589.0</td>\n",
       "    </tr>\n",
       "    <tr>\n",
       "      <th>2021-08-17 18:28:38</th>\n",
       "      <td>4.444444</td>\n",
       "      <td>589.0</td>\n",
       "    </tr>\n",
       "    <tr>\n",
       "      <th>2021-08-17 18:28:39</th>\n",
       "      <td>6.500000</td>\n",
       "      <td>589.0</td>\n",
       "    </tr>\n",
       "  </tbody>\n",
       "</table>\n",
       "<p>5899 rows × 2 columns</p>\n",
       "</div>"
      ],
      "text/plain": [
       "                          value  time_index\n",
       "timestamp                                  \n",
       "2021-08-17 16:50:21    2.727273         0.0\n",
       "2021-08-17 16:50:22    5.083333         0.0\n",
       "2021-08-17 16:50:23  165.000000         0.0\n",
       "2021-08-17 16:50:24  203.565217         0.0\n",
       "2021-08-17 16:50:25  104.434783         0.0\n",
       "...                         ...         ...\n",
       "2021-08-17 18:28:35    8.678571       589.0\n",
       "2021-08-17 18:28:36    6.607143       589.0\n",
       "2021-08-17 18:28:37    7.250000       589.0\n",
       "2021-08-17 18:28:38    4.444444       589.0\n",
       "2021-08-17 18:28:39    6.500000       589.0\n",
       "\n",
       "[5899 rows x 2 columns]"
      ]
     },
     "metadata": {},
     "output_type": "display_data"
    },
    {
     "data": {
      "image/png": "[encoded data removed]",
      "text/plain": [
       "<Figure size 720x360 with 1 Axes>"
      ]
     },
     "metadata": {
      "needs_background": "light"
     },
     "output_type": "display_data"
    },
    {
     "data": {
      "image/png": "[encoded data removed]",
      "text/plain": [
       "<Figure size 720x360 with 1 Axes>"
      ]
     },
     "metadata": {
      "needs_background": "light"
     },
     "output_type": "display_data"
    }
   ],
   "source": [
    "display(HTML(\"<style>div.output_scroll { height: unset; }</style>\"))\n",
    "for csv_filename in csv_files:\n",
    "    print('[{}]'.format(csv_filename))\n",
    "    df = pd.read_csv(csv_filename, names=[\"value\", \"time_index\", \"timestamp\"])\n",
    "    df['timestamp'] = pd.to_datetime(df['timestamp'], format='%Y-%m-%d_%H:%M:%S.%f')\n",
    "    df = df[1:]\n",
    "    df = df[df['value'] < 10000]\n",
    "    df = df.set_index(\"timestamp\")\n",
    "    df = df.resample('1S').mean()\n",
    "    display(df)\n",
    "    df.plot(y='value').get_figure().savefig(csv_filename+\".jpg\")"
   ]
  }
 ],
 "metadata": {
  "interpreter": {
   "hash": "32163c125ee61f8777d049e9d832a86bb0c44a5c3914600a84b30cc84ac63a66"
  },
  "kernelspec": {
   "display_name": "Python 3 (ipykernel)",
   "language": "python",
   "name": "python3"
  },
  "language_info": {
   "codemirror_mode": {
    "name": "ipython",
    "version": 3
   },
   "file_extension": ".py",
   "mimetype": "text/x-python",
   "name": "python",
   "nbconvert_exporter": "python",
   "pygments_lexer": "ipython3",
   "version": "3.7.7"
  }
 },
 "nbformat": 4,
 "nbformat_minor": 2
}
